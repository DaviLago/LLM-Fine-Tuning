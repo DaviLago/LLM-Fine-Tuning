{
 "cells": [
  {
   "cell_type": "markdown",
   "id": "b89e6374",
   "metadata": {},
   "source": [
    "# LLM Fine-Tuning Comparison: Base vs Fine-Tuned Model\n",
    "\n",
    "This notebook compares the outputs of the base Llama-2-7b-hf model and a fine-tuned version using LoRA/QLoRA adapters. The fine-tuned model uses parameter-efficient fine-tuning (PEFT) via LoRA/QLoRA."
   ]
  },
  {
   "cell_type": "code",
   "execution_count": null,
   "id": "4e2f00f2",
   "metadata": {},
   "outputs": [],
   "source": [
    "# Install required libraries\n",
    "!pip install peft transformers sentencepiece protobuf bitsandbytes"
   ]
  },
  {
   "cell_type": "code",
   "execution_count": null,
   "id": "437b718c",
   "metadata": {},
   "outputs": [],
   "source": [
    "from huggingface_hub import login\n",
    "\n",
    "# Login to Hugging Face\n",
    "login(new_session=False)"
   ]
  },
  {
   "cell_type": "code",
   "execution_count": null,
   "id": "cd29e9db",
   "metadata": {},
   "outputs": [],
   "source": [
    "from peft import PeftModel, PeftConfig\n",
    "\n",
    "from transformers import AutoModelForCausalLM, AutoTokenizer, BitsAndBytesConfig, pipeline\n",
    "\n",
    "base_model = \"meta-llama/Llama-2-7b-hf\"\n",
    "\n",
    "adapter_repo = \"DaviLago/amazon-titles-llama-finetuned\"\n",
    "\n",
    "# Load base tokenizer\n",
    "tokenizer = AutoTokenizer.from_pretrained(base_model)\n",
    "\n",
    "# QLoRA quantization config\n",
    "quantization_config = BitsAndBytesConfig(\n",
    "    load_in_4bit=True,\n",
    "    bnb_4bit_use_double_quant=True,\n",
    "    bnb_4bit_quant_type=\"nf4\",\n",
    "    bnb_4bit_compute_dtype=\"bfloat16\",\n",
    ")\n",
    "\n",
    "# Load base model with QLoRA\n",
    "base = AutoModelForCausalLM.from_pretrained(base_model, quantization_config=quantization_config, device_map=\"auto\")"
   ]
  },
  {
   "cell_type": "code",
   "execution_count": null,
   "id": "86d541ec",
   "metadata": {},
   "outputs": [],
   "source": [
    "# Prompt\n",
    "prompt = \"You are a friendly and knowledgeable shop attendant in a retail store that sells products. The customer will ask a question about a title. Give him the answer based on the title. The customer wants to know: What are 'Girls Ballet Tutu Neon Pink' details?\""
   ]
  },
  {
   "cell_type": "code",
   "execution_count": null,
   "id": "ab32cfea",
   "metadata": {},
   "outputs": [],
   "source": [
    "# Base model\n",
    "base_pipe = pipeline(task=\"text-generation\", model=base, tokenizer=tokenizer, max_length=256, num_return_sequences=1, max_new_tokens=30)\n",
    "base_output = base_pipe(prompt)[0][\"generated_text\"]\n",
    "print(\"Base model output:\")\n",
    "print(base_output)"
   ]
  },
  {
   "cell_type": "code",
   "execution_count": null,
   "id": "0420d533",
   "metadata": {},
   "outputs": [],
   "source": [
    "# Load fine-tuned model (LoRA/QLoRA adapter)\n",
    "ft = AutoModelForCausalLM.from_pretrained(base_model, quantization_config=quantization_config, device_map=\"auto\")\n",
    "ft = PeftModel.from_pretrained(ft, adapter_repo)"
   ]
  },
  {
   "cell_type": "code",
   "execution_count": null,
   "id": "1bb6690c",
   "metadata": {},
   "outputs": [],
   "source": [
    "# Fine-tuned model\n",
    "ft_pipe = pipeline(task=\"text-generation\", model=ft, tokenizer=tokenizer, max_length=256, num_return_sequences=1, max_new_tokens=30)\n",
    "ft_output = ft_pipe(prompt)[0][\"generated_text\"]\n",
    "print(\"\\nFine-tuned model output:\")\n",
    "print(ft_output)"
   ]
  },
  {
   "cell_type": "code",
   "execution_count": null,
   "id": "d1ae4eaa",
   "metadata": {},
   "outputs": [],
   "source": [
    "# Display training data for comparison\n",
    "print(\"\\nRelated training data for fine-tuned model output:\")\n",
    "print(\"Content: High quality 3 layer ballet tutu. 12 inches in length\")\n",
    "print(\"Content: Dance tutu for girls ages 2-8 years. Perfect for dance practice, recitals and performances, costumes or just for fun!\")"
   ]
  }
 ],
 "metadata": {
  "kernelspec": {
   "display_name": "Python 3",
   "language": "python",
   "name": "python3"
  },
  "language_info": {
   "codemirror_mode": {
    "name": "ipython",
    "version": 3
   },
   "file_extension": ".py",
   "mimetype": "text/x-python",
   "name": "python",
   "nbconvert_exporter": "python",
   "pygments_lexer": "ipython3",
   "version": "3.13.7"
  }
 },
 "nbformat": 4,
 "nbformat_minor": 5
}
